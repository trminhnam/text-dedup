{
 "cells": [
  {
   "cell_type": "markdown",
   "metadata": {},
   "source": [
    "# Text deduplication\n",
    "\n",
    "References:\n",
    "- https://gist.github.com/conceptofmind/c5804428ea1bd89767815f9cd5f02d9a\n",
    "- https://github.com/Sripaad/MinHash-LSH-Deduplicate/tree/main"
   ]
  },
  {
   "cell_type": "code",
   "execution_count": 1,
   "metadata": {},
   "outputs": [],
   "source": [
    "import json\n",
    "import multiprocessing as mp\n",
    "import re\n",
    "from collections import defaultdict\n",
    "from functools import partial\n",
    "from typing import Dict, List, Optional, Set, Tuple, Type\n",
    "\n",
    "from datasets import Dataset\n",
    "from tqdm import tqdm\n",
    "\n",
    "from datasketch import MinHash, MinHashLSH\n",
    "from dpu_utils.utils.iterators import ThreadedIterator\n",
    "\n",
    "\n",
    "# NON_ALPHA = re.compile(\"[^A-Za-z_0-9]\")\n",
    "NON_ALPHA = re.compile(r\"\\W\", re.UNICODE)\n",
    "# parameters used in DuplicationIndex\n",
    "MIN_NUM_TOKENS = 10\n",
    "NUM_PERM = 256\n",
    "\n",
    "\n",
    "def get_min_hash(tokens: List[str]) -> Optional[MinHash]:\n",
    "    \"\"\"Compute the MinHash of a code snippet.\"\"\"\n",
    "    if len(tokens) < MIN_NUM_TOKENS:\n",
    "        return None\n",
    "    min_hash = MinHash(num_perm=NUM_PERM)\n",
    "    for token in set(tokens):\n",
    "        min_hash.update(token.encode())\n",
    "    return min_hash\n",
    "\n",
    "\n",
    "def get_tokens(code: str) -> Set[str]:\n",
    "    \"\"\"Tokenize a code snippet.\"\"\"\n",
    "    return set([t for t in NON_ALPHA.split(code) if len(t.strip()) > 0])\n",
    "\n",
    "\n",
    "class DuplicationIndex:\n",
    "    def __init__(\n",
    "        self,\n",
    "        *,\n",
    "        duplication_jaccard_threshold: float = 0.95,\n",
    "    ):\n",
    "        self._duplication_jaccard_threshold = duplication_jaccard_threshold\n",
    "        self._num_perm = NUM_PERM\n",
    "        self._index = MinHashLSH(threshold=self._duplication_jaccard_threshold, num_perm=self._num_perm)\n",
    "\n",
    "        self._duplicate_clusters = defaultdict(set)\n",
    "\n",
    "    def add(self, code_key: Tuple, min_hash: MinHash) -> None:\n",
    "        \"\"\"Add a key to _index (MinHashLSH)\n",
    "        the min_hash is used to query closest matches based on the jaccard_threshold.\n",
    "        The new key is either added to a existing cluster of one close match,\n",
    "        or a new cluster is created. The clusters created in this way, depend on the order of add.\n",
    "        Args:\n",
    "            code_key (Tuple of (index, repo_name, path)):\n",
    "                Theoritically any hasbale key. Here we use a tuple to retrieve the information later.\n",
    "            min_hash: MinHash of the code_key.\n",
    "        \"\"\"\n",
    "        close_duplicates = self._index.query(min_hash)\n",
    "        if code_key in self._index.keys:\n",
    "            print(f\"Duplicate key {code_key}\")\n",
    "            return\n",
    "\n",
    "        self._index.insert(code_key, min_hash)\n",
    "        if len(close_duplicates) > 0:\n",
    "\n",
    "            for base_duplicate in close_duplicates:\n",
    "                if base_duplicate in self._duplicate_clusters:\n",
    "                    self._duplicate_clusters[base_duplicate].add(code_key)\n",
    "                    break\n",
    "            else:\n",
    "                self._duplicate_clusters[close_duplicates[0]].add(code_key)\n",
    "\n",
    "    def get_duplicate_clusters(self) -> List[List[Dict]]:\n",
    "        \"\"\"Export the duplicate clusters.\n",
    "        For each cluster, the first element is the base element of the cluster.\n",
    "        The base element has an estimation jaccard similarity higher than the threshold with all the other elements.\n",
    "        Returns:\n",
    "            duplicate_clusters (List[List[Dict]]):\n",
    "                List of duplicate clusters.\n",
    "        \"\"\"\n",
    "        duplicate_clusters = []\n",
    "        for base, duplicates in self._duplicate_clusters.items():\n",
    "            cluster = [base] + list(duplicates)\n",
    "            # reformat the cluster to be a list of dict\n",
    "            cluster = [{\"base_index\": el} for el in cluster]\n",
    "            duplicate_clusters.append(cluster)\n",
    "        return duplicate_clusters\n",
    "\n",
    "    def save(self, filepath) -> None:\n",
    "        duplicate_clusters = self.get_duplicate_clusters()\n",
    "        with open(filepath, \"w\") as f:\n",
    "            json.dump(duplicate_clusters, f)\n",
    "\n",
    "\n",
    "def _compute_min_hash(element, column='content'):\n",
    "    index, data = element\n",
    "    min_hash = get_min_hash([t for t in NON_ALPHA.split(data[column]) if len(t.strip()) > 0])\n",
    "    if min_hash is not None:\n",
    "        return index, min_hash\n",
    "\n",
    "\n",
    "def minhash_iter(dataset_iterator: Type[Dataset]):\n",
    "    with mp.Pool() as pool:\n",
    "        for data in pool.imap_unordered(\n",
    "            _compute_min_hash,\n",
    "            ThreadedIterator(dataset_iterator, max_queue_size=10000),\n",
    "            chunksize=100,\n",
    "        ):\n",
    "            if data is not None:\n",
    "                yield data\n",
    "\n",
    "\n",
    "def make_duplicate_clusters(dataset_iterator: Type[Dataset], jaccard_threshold: float):\n",
    "    \"\"\"Find duplicate clusters in the dataset in two steps:\n",
    "    1. Compute MinHash for each code snippet. MinHash is a tool for fast jaccard similarity estimation.\n",
    "    This step is computed using an asynchronous multiprocessing pool, minhash_iter\n",
    "    2. Find duplicate clusters. The computed MinHash is added sequentially to the DuplicationIndex.\n",
    "    This step cannot be parallelized. So using asynchronous thread in the previous step helps to speed up the process.\n",
    "    \"\"\"\n",
    "    di = DuplicationIndex(duplication_jaccard_threshold=jaccard_threshold)\n",
    "\n",
    "    for filename, min_hash in tqdm(ThreadedIterator(minhash_iter(enumerate(dataset_iterator)), max_queue_size=100)):\n",
    "        di.add(filename, min_hash)\n",
    "\n",
    "    # Returns a List[Cluster] where Cluster is List[str] with the filenames.\n",
    "    return di.get_duplicate_clusters()\n",
    "\n",
    "\n",
    "def jaccard_similarity(code1: str, code2: str) -> float:\n",
    "    \"\"\"Compute the Jaccard similarity of two code snippets.\"\"\"\n",
    "    tokens1 = get_tokens(code1)\n",
    "    tokens2 = get_tokens(code2)\n",
    "    return len(tokens1 & tokens2) / len(tokens1 | tokens2)\n",
    "\n",
    "\n",
    "_shared_dataset = None\n",
    "\n",
    "\n",
    "def _find_cluster_extremes_shared(cluster, jaccard_threshold):\n",
    "    \"\"\"Find a reduced cluster such that each code in the origin cluster is similar to at least one code in the reduced cluster.\n",
    "    Two codes are similar if their Jaccard similarity is above the threshold.\n",
    "    Args:\n",
    "        cluster (List[dict]):\n",
    "           cluster is a list of dict, each dict contains the following keys:\n",
    "                - base_index\n",
    "                - repo_name\n",
    "                - path\n",
    "            This is a typical output of DuplicationIndex.get_duplicate_clusters()\n",
    "        jaccard_threshold (float):\n",
    "            threshold for Jaccard similarity.\n",
    "            Two codes are similar if their Jaccard similarity is above the threshold.\n",
    "    Returns:\n",
    "        extremes (List[dict]):\n",
    "            A reduced representation of the cluster. The field copies is added to each dict.\n",
    "            The copies field indicates the number of similar codes in the cluster for a extreme.\n",
    "    \"\"\"\n",
    "    extremes = []\n",
    "    for element1 in cluster:\n",
    "        code1 = _shared_dataset[element1[\"base_index\"]][\"content\"]\n",
    "        for element2 in extremes:\n",
    "            code2 = _shared_dataset[element2[\"base_index\"]][\"content\"]\n",
    "            if jaccard_similarity(code1, code2) >= jaccard_threshold:\n",
    "                element2[\"copies\"] += 1\n",
    "                break\n",
    "        else:\n",
    "            element1[\"copies\"] = 1\n",
    "            extremes.append(element1)\n",
    "    return extremes\n",
    "\n",
    "\n",
    "def find_extremes(cluster_list, dataset, jaccard_threshold):\n",
    "    \"\"\"Call the _find_cluster_extremes_shared function in a parallel fashion.\n",
    "    Args:\n",
    "        cluster_list (List[List[Dict]]):\n",
    "            each cluster is a list of dicts with the key base_index,\n",
    "            referring to the index of the base code in the dataset.\n",
    "        dataset (Type[Dataset]):\n",
    "            dataset is used to access the content of the code snippets,\n",
    "            using the base_index from the cluster_list.\n",
    "            dataset is shared between all the processes using a glabal variable (any other way to share the dataset?),\n",
    "            otherwise the multi processing is not speeded up.\n",
    "        jaccard_threshold (float):\n",
    "            the threshold for the jaccard similarity. The default value is 0.85\n",
    "    Returns:\n",
    "        extremes_list (List[Dict]):\n",
    "            Each cluster is reduced to extremes.\n",
    "            See _find_cluster_extremes_shared for the definition of extremes.\n",
    "    \"\"\"\n",
    "    global _shared_dataset\n",
    "    _shared_dataset = dataset\n",
    "    extremes_list = []\n",
    "    f = partial(_find_cluster_extremes_shared, jaccard_threshold=jaccard_threshold)\n",
    "    with mp.Pool() as pool:\n",
    "        for extremes in tqdm(\n",
    "            pool.imap_unordered(\n",
    "                f,\n",
    "                cluster_list,\n",
    "            ),\n",
    "            total=len(cluster_list),\n",
    "        ):\n",
    "            extremes_list.append(extremes)\n",
    "    return extremes_list\n",
    "\n",
    "\n",
    "def deduplicate_dataset(\n",
    "    dataset: Type[Dataset], jaccard_threshold: float = 0.85\n",
    ") -> Tuple[Type[Dataset], List[List[Dict]]]:\n",
    "    \"\"\"Deduplicate the dataset using minhash and jaccard similarity.\n",
    "    This function first generate duplicate clusters, then each cluster\n",
    "    is reduced to the extremes that are similar to the other elements in the cluster.\n",
    "    Codes are called similar if their Jaccard similarity is greater than jaccard_threshold (0.85 default).\n",
    "    Args:\n",
    "        dataset (Type[Dataset]):\n",
    "            The dataset to deduplicate.\n",
    "        jaccard_threshold (float, default=0.95):\n",
    "            jaccard threshold to determine if two codes are similar\n",
    "    Returns:\n",
    "        ds_dedup (Type[Dataset]):\n",
    "            The deduplicated dataset.\n",
    "        duplicate_clusters (List[List[Dict]]):\n",
    "            The list of duplicate clusters.\n",
    "            Each cluster is a list of dicts with the following keys:\n",
    "            - base_index : int\n",
    "                The index of the code in the original dataset.\n",
    "            - repo_name : str\n",
    "            - path : str\n",
    "            - copies : int\n",
    "                The number of copies of the code in the cluster. (find_cluster_extremes)\n",
    "            - is_extreme : bool\n",
    "                Whether the code is an extreme in the cluster.\n",
    "            All the codes in the cluster are removed from the dataset except the extremes.\n",
    "    Example:\n",
    "        >>> from datasets import load_dataset\n",
    "        >>> from minhash_deduplication import deduplicate_dataset\n",
    "        >>> ds = load_dataset(\"lvwerra/codeparrot-clean\", split=\"train\")\n",
    "        >>> ds_dedup, duplicate_clusters = deduplicate_dataset(ds, jaccard_threshold=0.85)\n",
    "    \"\"\"\n",
    "    duplicate_clusters = make_duplicate_clusters(dataset, jaccard_threshold)\n",
    "    duplicate_indices = set(x[\"base_index\"] for cluster in duplicate_clusters for x in cluster)\n",
    "    extreme_dict = {}\n",
    "    extremes_clusters = find_extremes(duplicate_clusters, dataset, jaccard_threshold)\n",
    "    for extremes in extremes_clusters:\n",
    "        for element in extremes:\n",
    "            extreme_dict[element[\"base_index\"]] = element\n",
    "    remove_indices = duplicate_indices - set(extreme_dict.keys())\n",
    "    ds_filter = dataset.filter(lambda x, idx: idx not in remove_indices, with_indices=True)\n",
    "\n",
    "    # update duplicate_clusters\n",
    "    for cluster in duplicate_clusters:\n",
    "        for element in cluster:\n",
    "            element[\"is_extreme\"] = element[\"base_index\"] in extreme_dict\n",
    "            if element[\"is_extreme\"]:\n",
    "                element[\"copies\"] = extreme_dict[element[\"base_index\"]][\"copies\"]\n",
    "\n",
    "    print(f\"Original dataset size: {len(dataset)}\")\n",
    "    print(f\"Number of duplicate clusters: {len(duplicate_clusters)}\")\n",
    "    print(f\"Files in duplicate cluster: {len(duplicate_indices)}\")\n",
    "    print(f\"Unique files in duplicate cluster: {len(extreme_dict)}\")\n",
    "    print(f\"Filtered dataset size: {len(ds_filter)}\")\n",
    "\n",
    "    return ds_filter, duplicate_clusters"
   ]
  },
  {
   "cell_type": "code",
   "execution_count": 2,
   "metadata": {},
   "outputs": [
    {
     "data": {
      "application/vnd.jupyter.widget-view+json": {
       "model_id": "93707befca664d75852616334a7df58d",
       "version_major": 2,
       "version_minor": 0
      },
      "text/plain": [
       "Downloading builder script:   0%|          | 0.00/8.30k [00:00<?, ?B/s]"
      ]
     },
     "metadata": {},
     "output_type": "display_data"
    },
    {
     "name": "stdout",
     "output_type": "stream",
     "text": [
      "Downloading and preparing dataset vnexpress_20231013/all (download: 10.71 MiB, generated: 64.32 MiB, post-processed: Unknown size, total: 75.03 MiB) to /home/minhnam/Desktop/rust/text-dedup/cache/tmnam20___vnexpress_20231013/all/1.0.0/288af6ee255ded210e6310cb9f3ec1493f0ccc958b424b4a16bede68fa79aedb...\n"
     ]
    },
    {
     "data": {
      "application/vnd.jupyter.widget-view+json": {
       "model_id": "b669f3eb10844fc79b9b6406fd2c0a24",
       "version_major": 2,
       "version_minor": 0
      },
      "text/plain": [
       "Downloading data files:   0%|          | 0/1 [00:00<?, ?it/s]"
      ]
     },
     "metadata": {},
     "output_type": "display_data"
    },
    {
     "data": {
      "application/vnd.jupyter.widget-view+json": {
       "model_id": "a36863f7db924bc59dbe2c2d0ddc7ea7",
       "version_major": 2,
       "version_minor": 0
      },
      "text/plain": [
       "Downloading data:   0%|          | 0.00/11.2M [00:00<?, ?B/s]"
      ]
     },
     "metadata": {},
     "output_type": "display_data"
    },
    {
     "data": {
      "application/vnd.jupyter.widget-view+json": {
       "model_id": "6a8a0b3456c24700bd96debf1814531c",
       "version_major": 2,
       "version_minor": 0
      },
      "text/plain": [
       "Extracting data files:   0%|          | 0/1 [00:00<?, ?it/s]"
      ]
     },
     "metadata": {},
     "output_type": "display_data"
    },
    {
     "data": {
      "application/vnd.jupyter.widget-view+json": {
       "model_id": "8e475a851c27442088cab05faedd415a",
       "version_major": 2,
       "version_minor": 0
      },
      "text/plain": [
       "Generating train split:   0%|          | 0/9124 [00:00<?, ? examples/s]"
      ]
     },
     "metadata": {},
     "output_type": "display_data"
    },
    {
     "name": "stdout",
     "output_type": "stream",
     "text": [
      "Loading file from topics/all.tar.gz...\n",
      "Dataset vnexpress_20231013 downloaded and prepared to /home/minhnam/Desktop/rust/text-dedup/cache/tmnam20___vnexpress_20231013/all/1.0.0/288af6ee255ded210e6310cb9f3ec1493f0ccc958b424b4a16bede68fa79aedb. Subsequent calls will reuse this data.\n"
     ]
    }
   ],
   "source": [
    "from datasets import load_dataset\n",
    "\n",
    "dataset = load_dataset(\"tmnam20/vnexpress_20231013\", \"all\", cache_dir='./cache', download_mode='FORCE_REDOWNLOAD'.lower(), split='train')"
   ]
  },
  {
   "cell_type": "code",
   "execution_count": 3,
   "metadata": {},
   "outputs": [
    {
     "data": {
      "text/plain": [
       "Dataset({\n",
       "    features: ['title', 'description', 'content', 'raw', 'topic', 'id'],\n",
       "    num_rows: 9124\n",
       "})"
      ]
     },
     "execution_count": 3,
     "metadata": {},
     "output_type": "execute_result"
    }
   ],
   "source": [
    "dataset"
   ]
  },
  {
   "cell_type": "code",
   "execution_count": 4,
   "metadata": {},
   "outputs": [
    {
     "name": "stderr",
     "output_type": "stream",
     "text": [
      "8612it [00:03, 2469.74it/s]\n",
      "100%|██████████| 67/67 [00:00<00:00, 4622.47it/s]\n"
     ]
    },
    {
     "data": {
      "application/vnd.jupyter.widget-view+json": {
       "model_id": "4ba120053256465ca41f05228635b638",
       "version_major": 2,
       "version_minor": 0
      },
      "text/plain": [
       "Filter:   0%|          | 0/9124 [00:00<?, ? examples/s]"
      ]
     },
     "metadata": {},
     "output_type": "display_data"
    },
    {
     "name": "stdout",
     "output_type": "stream",
     "text": [
      "Original dataset size: 9124\n",
      "Number of duplicate clusters: 67\n",
      "Files in duplicate cluster: 314\n",
      "Unique files in duplicate cluster: 79\n",
      "Filtered dataset size: 8889\n"
     ]
    }
   ],
   "source": [
    "# def deduplicate_dataset(\n",
    "#     dataset: Type[Dataset], jaccard_threshold: float = 0.85\n",
    "# ) -> Tuple[Type[Dataset], List[List[Dict]]]:\n",
    "\n",
    "dedup_dataset, extras = deduplicate_dataset(dataset, jaccard_threshold=0.9)"
   ]
  },
  {
   "cell_type": "code",
   "execution_count": null,
   "metadata": {},
   "outputs": [],
   "source": [
    "def print_sth(sth, idx):\n",
    "    print(sth)\n",
    "    return sth\n",
    "\n",
    "dataset = dataset.map(\n",
    "    print_sth,\n",
    "    batched=True,\n",
    "    num_proc=2,\n",
    "    batch_size=10,\n",
    "    with_indices=True,\n",
    "    # desc=\"Fingerprinting...\",\n",
    ")"
   ]
  },
  {
   "cell_type": "code",
   "execution_count": 7,
   "metadata": {},
   "outputs": [
    {
     "data": {
      "text/plain": [
       "['Anh', 'ta', 'là', 'một', 'người', 'đàn', 'ông', 'tốt']"
      ]
     },
     "execution_count": 7,
     "metadata": {},
     "output_type": "execute_result"
    }
   ],
   "source": [
    "import re\n",
    "\n",
    "NON_ALPHA = re.compile(r\"\\W\", re.UNICODE)\n",
    "NON_ALPHA.split('Anh ta là một người đàn ông tốt')"
   ]
  },
  {
   "cell_type": "code",
   "execution_count": 15,
   "metadata": {},
   "outputs": [
    {
     "data": {
      "text/plain": [
       "Dataset({\n",
       "    features: ['text'],\n",
       "    num_rows: 4\n",
       "})"
      ]
     },
     "execution_count": 15,
     "metadata": {},
     "output_type": "execute_result"
    }
   ],
   "source": [
    "from datasets import load_from_disk\n",
    "loaded_dataset = load_from_disk(\"/home/minhnam/Desktop/rust/text-dedup/output/test/text_dataset/train\")\n",
    "loaded_dataset"
   ]
  },
  {
   "cell_type": "code",
   "execution_count": 20,
   "metadata": {},
   "outputs": [
    {
     "name": "stdout",
     "output_type": "stream",
     "text": [
      "{'text': ''}\n",
      "{'text': 'Mark 6:1-13 (NIV)'}\n",
      "{'text': 'This is the text of the message I preached at Lakes Entrance Uniting Church on Sunday 29th July 2018. It was the fifth in a series on the Gospel of Mark, and the second of two on Mark 6:1-13.'}\n",
      "{'text': '1 Jesus left there and went to his hometown, accompanied by his disciples. 2 When the Sabbath came, he began to teach in the synagogue, and many who heard him were amazed.'}\n"
     ]
    }
   ],
   "source": [
    "for i in range(len(loaded_dataset)):\n",
    "    print(loaded_dataset[i])"
   ]
  },
  {
   "cell_type": "code",
   "execution_count": 12,
   "metadata": {},
   "outputs": [
    {
     "data": {
      "application/vnd.jupyter.widget-view+json": {
       "model_id": "faaeec4aa5a8471494dc8038c61b8267",
       "version_major": 2,
       "version_minor": 0
      },
      "text/plain": [
       "Pushing dataset shards to the dataset hub:   0%|          | 0/1 [00:00<?, ?it/s]"
      ]
     },
     "metadata": {},
     "output_type": "display_data"
    },
    {
     "data": {
      "application/vnd.jupyter.widget-view+json": {
       "model_id": "2ef5917eb7ca4370b0f36dd82bb40a49",
       "version_major": 2,
       "version_minor": 0
      },
      "text/plain": [
       "Creating parquet from Arrow format:   0%|          | 0/9 [00:00<?, ?ba/s]"
      ]
     },
     "metadata": {},
     "output_type": "display_data"
    }
   ],
   "source": [
    "loaded_dataset.push_to_hub(\"tmnam20/ahihi\")"
   ]
  },
  {
   "cell_type": "code",
   "execution_count": 1,
   "metadata": {},
   "outputs": [],
   "source": [
    "from datasets import load_dataset"
   ]
  },
  {
   "cell_type": "code",
   "execution_count": 7,
   "metadata": {},
   "outputs": [
    {
     "data": {
      "application/vnd.jupyter.widget-view+json": {
       "model_id": "ad6770666de142d0b40ff10815564d8b",
       "version_major": 2,
       "version_minor": 0
      },
      "text/plain": [
       "Generating train split: 0 examples [00:00, ? examples/s]"
      ]
     },
     "metadata": {},
     "output_type": "display_data"
    }
   ],
   "source": [
    "dataset = load_dataset(\n",
    "    \"text\", \n",
    "    data_files=\"text_dataset/*.txt\", split=\"train\")"
   ]
  },
  {
   "cell_type": "code",
   "execution_count": 8,
   "metadata": {},
   "outputs": [
    {
     "data": {
      "text/plain": [
       "Dataset({\n",
       "    features: ['text'],\n",
       "    num_rows: 11710791\n",
       "})"
      ]
     },
     "execution_count": 8,
     "metadata": {},
     "output_type": "execute_result"
    }
   ],
   "source": [
    "dataset"
   ]
  },
  {
   "cell_type": "code",
   "execution_count": null,
   "metadata": {},
   "outputs": [],
   "source": []
  }
 ],
 "metadata": {
  "kernelspec": {
   "display_name": "base",
   "language": "python",
   "name": "python3"
  },
  "language_info": {
   "codemirror_mode": {
    "name": "ipython",
    "version": 3
   },
   "file_extension": ".py",
   "mimetype": "text/x-python",
   "name": "python",
   "nbconvert_exporter": "python",
   "pygments_lexer": "ipython3",
   "version": "3.10.13"
  },
  "orig_nbformat": 4
 },
 "nbformat": 4,
 "nbformat_minor": 2
}
